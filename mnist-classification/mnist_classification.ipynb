{
 "cells": [
  {
   "cell_type": "markdown",
   "id": "2907d0d5",
   "metadata": {},
   "source": [
    "# 1. 加载必要的库"
   ]
  },
  {
   "cell_type": "code",
   "execution_count": 2,
   "id": "04cdd179",
   "metadata": {},
   "outputs": [],
   "source": [
    "import torch\n",
    "import torch.nn as nn\n",
    "import torch.nn.functional as F\n",
    "import torch.optim as optim\n",
    "from torchvision import datasets,transforms"
   ]
  },
  {
   "cell_type": "markdown",
   "id": "3bf061ca",
   "metadata": {},
   "source": [
    "# 2. 定义超参数"
   ]
  },
  {
   "cell_type": "code",
   "execution_count": 3,
   "id": "359a12c1",
   "metadata": {},
   "outputs": [],
   "source": [
    "BTACH_SIZE = 128 #每批处理的数据\n",
    "DEVICE = torch.device(\"cuda\" if torch.cuda.is_available() else \"cpu\") #选择GPU or CPU训练\n",
    "EPOCHS = 100 #训练的轮次"
   ]
  },
  {
   "cell_type": "markdown",
   "id": "24b4f1a8",
   "metadata": {},
   "source": [
    "# 3. 构建pipeline，对图像做处理（transforms）"
   ]
  },
  {
   "cell_type": "code",
   "execution_count": 5,
   "id": "071093a2",
   "metadata": {},
   "outputs": [],
   "source": [
    "pipeline = transforms.Compose([\n",
    "    transforms.ToTensor(), #将图片转化为tensor\n",
    "    transforms.Normalize((0.1307,),(0.3081,)) #正则化，过拟合时候降低复杂度\n",
    "])"
   ]
  },
  {
   "cell_type": "markdown",
   "id": "292396fa",
   "metadata": {},
   "source": [
    "# 4. 下载，加载数据集"
   ]
  },
  {
   "cell_type": "code",
   "execution_count": 6,
   "id": "5ef2a600",
   "metadata": {},
   "outputs": [],
   "source": [
    "from torch.utils.data import DataLoader\n",
    "#下载数据集\n",
    "train_set = datasets.MNIST(\"data\",train=True,download=True,transform=pipeline)\n",
    "test_set = datasets.MNIST(\"data\",train=False,download=True,transform=pipeline)\n",
    "#加载数据\n",
    "train_loader = DataLoader(train_set,batch_size=BTACH_SIZE,shuffle=True)\n",
    "\n",
    "test_loader = DataLoader(test_set,batch_size=BTACH_SIZE,shuffle=True)"
   ]
  },
  {
   "cell_type": "markdown",
   "id": "ef0e9996",
   "metadata": {},
   "source": [
    "# 5. 构建网络模型"
   ]
  },
  {
   "cell_type": "code",
   "execution_count": 7,
   "id": "42dab9dc",
   "metadata": {},
   "outputs": [],
   "source": [
    "class Digit(nn.Module):  # 继承父类\n",
    "    def __init__(self):\n",
    "        super().__init__()\n",
    "        self.conv1 = nn.Conv2d(1, 10, 5)  # 二维卷积、输入通道，输出通道，5*5 kernel\n",
    "        self.conv2 = nn.Conv2d(10, 20, 3)\n",
    "        self.fc1 = nn.Linear(20 * 10 * 10, 500)  # 全连接层，输入通道， 输出通道\n",
    "        self.fc2 = nn.Linear(500, 10)\n",
    "\n",
    "    def forward(self, x):  # 前馈\n",
    "        input_size = x.size(0)  # 得到batch_size\n",
    "        x = self.conv1(x)  # 输入：batch*1*28*28, 输出：batch*10*24*24(28-5+1)\n",
    "        x = F.relu(x)  # 使表达能力更强大的激活函数, 输出batch*10*24*24\n",
    "        x = F.max_pool2d(x, 2, 2)  # 最大池化层，输入batch*10*24*24，输出batch*10*12*12\n",
    "\n",
    "        x = self.conv2(x)  # 输入batch*10*12*12，输出batch*20*10*10\n",
    "        x = F.relu(x)\n",
    "\n",
    "        x = x.view(input_size, -1)  # 拉平， 自动计算维度，20*10*10= 2000\n",
    "\n",
    "        x = self.fc1(x)  # 输入batch*2000,输出batch*500\n",
    "        x = F.relu(x)\n",
    "\n",
    "        x = self.fc2(x)  # 输入batch*500 输出batch*10\n",
    "\n",
    "        output = F.log_softmax(x, dim=1)  # 计算分类后每个数字的概率值\n",
    "\n",
    "        return output"
   ]
  },
  {
   "cell_type": "markdown",
   "id": "52215b4f",
   "metadata": {},
   "source": [
    "# 6. 定义优化器"
   ]
  },
  {
   "cell_type": "code",
   "execution_count": 8,
   "id": "034b2368",
   "metadata": {},
   "outputs": [],
   "source": [
    "model = Digit().to(DEVICE)\n",
    "optimizer = optim.Adam(model.parameters())"
   ]
  },
  {
   "cell_type": "markdown",
   "id": "442e3585",
   "metadata": {},
   "source": [
    "# 7. 定义训练方法"
   ]
  },
  {
   "cell_type": "code",
   "execution_count": 9,
   "id": "15b2f23c",
   "metadata": {},
   "outputs": [],
   "source": [
    "def train_model(model,device,train_loader,optimizer,epoch):\n",
    "    #训练模型\n",
    "    model.train()\n",
    "    for batch_index,(data,target) in enumerate(train_loader):\n",
    "        #部署到DEVICE上去\n",
    "        data,target = data.to(device),target.to(device)\n",
    "        #初始化梯度为0\n",
    "        optimizer.zero_grad()\n",
    "        #训练后的结果\n",
    "        output = model(data)\n",
    "        #计算损失\n",
    "        loss = F.cross_entropy(output,target)\n",
    "        #找到概率最大的下表作为预测值\n",
    "        pred = output.max(1,keepdim=True)\n",
    "        #反向传播\n",
    "        loss.backward()\n",
    "        #参数优化\n",
    "        optimizer.step()\n",
    "        if batch_index % 3000 == 0: #每3000下打印一次\n",
    "            print(\"Train Epoch:{}\\t Loss:{:.6f}\".format(epoch,loss.item()))"
   ]
  },
  {
   "cell_type": "markdown",
   "id": "7d043e50",
   "metadata": {},
   "source": [
    "# 8. 定义测试方法"
   ]
  },
  {
   "cell_type": "code",
   "execution_count": 10,
   "id": "660741d0",
   "metadata": {},
   "outputs": [],
   "source": [
    "def test_model(model, device, test_loader):\n",
    "    #模型验证\n",
    "    model.eval()\n",
    "    #统计正确率\n",
    "    correct = 0.0\n",
    "    #测试损失\n",
    "    test_loss = 0.0\n",
    "    with torch.no_grad():    # 不计算梯度，不反向传播\n",
    "        for data, label in test_loader:\n",
    "            data, label = data.to(device), label.to(device)\n",
    "            #测试数据\n",
    "            output = model(data)\n",
    "            #计算测试损失\n",
    "            test_loss += F.cross_entropy(output, label).item()\n",
    "            #找到概率值最大的下标\n",
    "            pred = output.argmax(dim=1)\n",
    "            #累计正确率\n",
    "            correct += pred.eq(label.view_as(pred)).sum().item()\n",
    "        test_loss /= len(test_loader.dataset)\n",
    "        print(\"Test —— Average loss : {:.4f}, Accuracy : {:.3f}\\n\".format(test_loss, 100.0 * correct / len(test_loader.dataset)))"
   ]
  },
  {
   "cell_type": "markdown",
   "id": "3cf03548",
   "metadata": {},
   "source": [
    "# 9. 循环调用方法7，8，检查效果"
   ]
  },
  {
   "cell_type": "code",
   "execution_count": null,
   "id": "0627e2c2",
   "metadata": {},
   "outputs": [],
   "source": [
    "for epoch in range(1,EPOCHS + 1):\n",
    "    train_model(model,DEVICE,train_loader,optimizer,epoch)\n",
    "    test_model(model,DEVICE,test_loader)"
   ]
  }
 ],
 "metadata": {
  "kernelspec": {
   "display_name": "torch",
   "language": "python",
   "name": "torch"
  },
  "language_info": {
   "codemirror_mode": {
    "name": "ipython",
    "version": 3
   },
   "file_extension": ".py",
   "mimetype": "text/x-python",
   "name": "python",
   "nbconvert_exporter": "python",
   "pygments_lexer": "ipython3",
   "version": "3.7.16"
  }
 },
 "nbformat": 4,
 "nbformat_minor": 5
}
